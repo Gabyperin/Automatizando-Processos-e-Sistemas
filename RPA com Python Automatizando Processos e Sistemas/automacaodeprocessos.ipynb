{
 "cells": [
  {
   "cell_type": "code",
   "execution_count": 51,
   "metadata": {},
   "outputs": [],
   "source": [
    "#!pip install pyautogui"
   ]
  },
  {
   "cell_type": "code",
   "execution_count": 52,
   "metadata": {},
   "outputs": [
    {
     "name": "stdout",
     "output_type": "stream",
     "text": [
      "['\\t', '\\n', '\\r', ' ', '!', '\"', '#', '$', '%', '&', \"'\", '(', ')', '*', '+', ',', '-', '.', '/', '0', '1', '2', '3', '4', '5', '6', '7', '8', '9', ':', ';', '<', '=', '>', '?', '@', '[', '\\\\', ']', '^', '_', '`', 'a', 'b', 'c', 'd', 'e', 'f', 'g', 'h', 'i', 'j', 'k', 'l', 'm', 'n', 'o', 'p', 'q', 'r', 's', 't', 'u', 'v', 'w', 'x', 'y', 'z', '{', '|', '}', '~', 'accept', 'add', 'alt', 'altleft', 'altright', 'apps', 'backspace', 'browserback', 'browserfavorites', 'browserforward', 'browserhome', 'browserrefresh', 'browsersearch', 'browserstop', 'capslock', 'clear', 'convert', 'ctrl', 'ctrlleft', 'ctrlright', 'decimal', 'del', 'delete', 'divide', 'down', 'end', 'enter', 'esc', 'escape', 'execute', 'f1', 'f10', 'f11', 'f12', 'f13', 'f14', 'f15', 'f16', 'f17', 'f18', 'f19', 'f2', 'f20', 'f21', 'f22', 'f23', 'f24', 'f3', 'f4', 'f5', 'f6', 'f7', 'f8', 'f9', 'final', 'fn', 'hanguel', 'hangul', 'hanja', 'help', 'home', 'insert', 'junja', 'kana', 'kanji', 'launchapp1', 'launchapp2', 'launchmail', 'launchmediaselect', 'left', 'modechange', 'multiply', 'nexttrack', 'nonconvert', 'num0', 'num1', 'num2', 'num3', 'num4', 'num5', 'num6', 'num7', 'num8', 'num9', 'numlock', 'pagedown', 'pageup', 'pause', 'pgdn', 'pgup', 'playpause', 'prevtrack', 'print', 'printscreen', 'prntscrn', 'prtsc', 'prtscr', 'return', 'right', 'scrolllock', 'select', 'separator', 'shift', 'shiftleft', 'shiftright', 'sleep', 'space', 'stop', 'subtract', 'tab', 'up', 'volumedown', 'volumemute', 'volumeup', 'win', 'winleft', 'winright', 'yen', 'command', 'option', 'optionleft', 'optionright']\n"
     ]
    }
   ],
   "source": [
    "import pyautogui\n",
    "import time\n",
    "\n",
    "# pyautogui.write() -> escreve\n",
    "# pyautogui.click -> clica\n",
    "# pyautogui.locateOnScreen -> identifica uma imagem na sua tela\n",
    "# pyautogui.hotkey -> usa atalhos do teclado (combinação de teclas)\n",
    "# pyautogui.press -> aperta um botão do teclado\n",
    "print(pyautogui.KEYBOARD_KEYS) #-> mostra todas as teclas que podemos usar"
   ]
  },
  {
   "cell_type": "code",
   "execution_count": 53,
   "metadata": {},
   "outputs": [],
   "source": [
    "pyautogui.PAUSE = 2  # -> uma pausa de 1 segundo para cada comando \n",
    "\n",
    "# preciona a tecla do teclado windows \n",
    "pyautogui.press('win')\n",
    "# escreve o chrome \n",
    "pyautogui.write(\"Firefox\")\n",
    "# clica no enter \n",
    "pyautogui.press(\"enter\")\n",
    "\n",
    "# escrever na barra de navegação \n",
    "pyautogui.write(\"gmail\")\n",
    "pyautogui.press(\"enter\")\n",
    "\n",
    "\"\"\"## tirei um print especifico com ferramenta de captura \n",
    "x, y, largura, altura = pyautogui.locateOnScreen(\"Print.PNG\")\n",
    "pyautogui.click(x + largura/2, y + altura/2)\n",
    "\"\"\"\n",
    "pyautogui.click(x=439, y=288)\n",
    "\n",
    "# clicar no botão para fazer login\n",
    "pyautogui.click(x=1296, y=136)\n",
    "\n",
    "time.sleep(2)\n",
    "# clicar no email para entrar \n",
    "pyautogui.click(x=1088, y=672)\n",
    "\n",
    "time.sleep(5)\n",
    "# clicar no google apps \n",
    "pyautogui.click(x=1843, y=139)\n",
    "\n",
    "# clicar em contados \n",
    "pyautogui.click(x=1670, y=490)\n",
    "\n",
    "# clicar no ctt \n",
    "time.sleep(3)\n",
    "pyautogui.click(x=617, y=339)\n",
    "\n",
    "# clicar para escrever o email\n",
    "pyautogui.click(x=316, y=460)\n",
    "time.sleep(7)"
   ]
  },
  {
   "cell_type": "markdown",
   "metadata": {},
   "source": [
    "## Escrever meu Email"
   ]
  },
  {
   "cell_type": "markdown",
   "metadata": {},
   "source": []
  },
  {
   "cell_type": "code",
   "execution_count": 54,
   "metadata": {},
   "outputs": [],
   "source": [
    "# assunto do email\n",
    "pyautogui.write(\"Recado para meu querido povo brasileiro\")\n",
    "pyautogui.press(\"tab\")\n",
    "texto = (\"Companheiros e companheiras, eu prometo que a partir de hoje todos os brasileiros vao ganhar um salario minimo \"\n",
    "         \"de 10 mil reais por mes, sem precisar trabalhar! Vamos acabar com todos os impostos e todo mundo vai ter uma \"\n",
    "         \"casa propria, um carro novo e viagens de graca para o exterior! Ninguem vai mais precisar pagar contas de luz, \"\n",
    "         \"agua ou internet! Vamos fazer do Brasil o pais mais rico e feliz do mundo, sem nenhum esforco! Essa e a minha \"\n",
    "         \"promessa e eu garanto que vai acontecer DIA 30 de FEVEREIRO DE 2025!\")\n",
    "\n",
    "pyautogui.write(texto, interval=0.1)\n",
    "time.sleep(6)\n",
    "pyautogui.click(x=1095, y=494)\n",
    "pyautogui.write(\"lulanojento\")\n",
    "pyautogui.press(\"enter\")\n",
    "pyautogui.click(x=989, y=493)\n",
    "\n",
    "\n"
   ]
  },
  {
   "cell_type": "code",
   "execution_count": 55,
   "metadata": {},
   "outputs": [
    {
     "data": {
      "text/plain": [
       "Point(x=1250, y=852)"
      ]
     },
     "execution_count": 55,
     "metadata": {},
     "output_type": "execute_result"
    }
   ],
   "source": [
    "time.sleep(7)\n",
    "pyautogui.position()\n"
   ]
  }
 ],
 "metadata": {
  "kernelspec": {
   "display_name": "Python 3",
   "language": "python",
   "name": "python3"
  },
  "language_info": {
   "codemirror_mode": {
    "name": "ipython",
    "version": 3
   },
   "file_extension": ".py",
   "mimetype": "text/x-python",
   "name": "python",
   "nbconvert_exporter": "python",
   "pygments_lexer": "ipython3",
   "version": "3.12.3"
  }
 },
 "nbformat": 4,
 "nbformat_minor": 4
}
