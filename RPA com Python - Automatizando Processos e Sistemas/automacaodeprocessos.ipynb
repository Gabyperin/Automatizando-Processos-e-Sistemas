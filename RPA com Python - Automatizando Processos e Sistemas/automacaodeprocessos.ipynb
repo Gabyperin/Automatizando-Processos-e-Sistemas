{
 "cells": [
  {
   "cell_type": "markdown",
   "metadata": {},
   "source": [
    "# RPA com Python\n",
    "\n",
    "- O que é RPA?\n",
    "- Por que isso é diferente de Selenium/Web-Scraping e do que vimos até agora?\n",
    "    - Pontos Positivos\n",
    "    - Pontos Negativos\n",
    "- Biblioteca usada:\n",
    "    - pip install pyautogui\n",
    "    - https://pyautogui.readthedocs.io/en/latest/\n",
    "        - Para os comandos de imagem pode ser que seja necessário instalar pip install pillow\n",
    "        - Para resolver problemas de caracteres especiais vamos usar um macete com a pyperclip\n",
    "        \n",
    "- Link com um resumo dos principais comandos: https://pyautogui.readthedocs.io/en/latest/quickstart.html"
   ]
  },
  {
   "cell_type": "markdown",
   "metadata": {},
   "source": [
    "## Desafio\n",
    "\n",
    "- Vamos automatizar a extração de informações de um sistema e envio de um relatório por e-mail\n",
    "- No nosso caso, para todo mundo conseguir fazer o mesmo programa, o nosso \"sistema\" vai ser o Gmail, mas o mesmo processo pode ser feito com qualquer programa do seu computador e qualquer sistema\n",
    "    - Passo 1: Entrar no sistema (entrar no Gmail)\n",
    "    - Passo 2: Entrar em uma aba específica do sistema onde tem o nosso relatório (Aba Contatos)\n",
    "    - Passo 3: Exportar o Relatório (Exportar Contatos)\n",
    "    - Passo 4: Pegar o relatório exportado, tratar e pegar as informações que queremos\n",
    "    - Passo 5: Preencher/Atualizar informações do sistema (No nosso caso, criar um e-mail e enviar)"
   ]
  },
  {
   "cell_type": "code",
   "execution_count": 4,
   "metadata": {},
   "outputs": [
    {
     "name": "stdout",
     "output_type": "stream",
     "text": [
      "Requirement already satisfied: pyautogui in c:\\users\\gabriela alves perin\\appdata\\local\\programs\\python\\python312\\lib\\site-packages (0.9.54)\n",
      "Requirement already satisfied: pymsgbox in c:\\users\\gabriela alves perin\\appdata\\local\\programs\\python\\python312\\lib\\site-packages (from pyautogui) (1.0.9)\n",
      "Requirement already satisfied: pytweening>=1.0.4 in c:\\users\\gabriela alves perin\\appdata\\local\\programs\\python\\python312\\lib\\site-packages (from pyautogui) (1.2.0)\n",
      "Requirement already satisfied: pyscreeze>=0.1.21 in c:\\users\\gabriela alves perin\\appdata\\local\\programs\\python\\python312\\lib\\site-packages (from pyautogui) (0.1.30)\n",
      "Requirement already satisfied: pygetwindow>=0.0.5 in c:\\users\\gabriela alves perin\\appdata\\local\\programs\\python\\python312\\lib\\site-packages (from pyautogui) (0.0.9)\n",
      "Requirement already satisfied: mouseinfo in c:\\users\\gabriela alves perin\\appdata\\local\\programs\\python\\python312\\lib\\site-packages (from pyautogui) (0.1.3)\n",
      "Requirement already satisfied: pyrect in c:\\users\\gabriela alves perin\\appdata\\local\\programs\\python\\python312\\lib\\site-packages (from pygetwindow>=0.0.5->pyautogui) (0.2.0)\n",
      "Requirement already satisfied: pyperclip in c:\\users\\gabriela alves perin\\appdata\\local\\programs\\python\\python312\\lib\\site-packages (from mouseinfo->pyautogui) (1.8.2)\n"
     ]
    },
    {
     "name": "stderr",
     "output_type": "stream",
     "text": [
      "\n",
      "[notice] A new release of pip is available: 23.2.1 -> 24.0\n",
      "[notice] To update, run: python.exe -m pip install --upgrade pip\n"
     ]
    }
   ],
   "source": [
    "!pip install pyautogui"
   ]
  },
  {
   "cell_type": "code",
   "execution_count": 24,
   "metadata": {},
   "outputs": [
    {
     "name": "stdout",
     "output_type": "stream",
     "text": [
      "['\\t', '\\n', '\\r', ' ', '!', '\"', '#', '$', '%', '&', \"'\", '(', ')', '*', '+', ',', '-', '.', '/', '0', '1', '2', '3', '4', '5', '6', '7', '8', '9', ':', ';', '<', '=', '>', '?', '@', '[', '\\\\', ']', '^', '_', '`', 'a', 'b', 'c', 'd', 'e', 'f', 'g', 'h', 'i', 'j', 'k', 'l', 'm', 'n', 'o', 'p', 'q', 'r', 's', 't', 'u', 'v', 'w', 'x', 'y', 'z', '{', '|', '}', '~', 'accept', 'add', 'alt', 'altleft', 'altright', 'apps', 'backspace', 'browserback', 'browserfavorites', 'browserforward', 'browserhome', 'browserrefresh', 'browsersearch', 'browserstop', 'capslock', 'clear', 'convert', 'ctrl', 'ctrlleft', 'ctrlright', 'decimal', 'del', 'delete', 'divide', 'down', 'end', 'enter', 'esc', 'escape', 'execute', 'f1', 'f10', 'f11', 'f12', 'f13', 'f14', 'f15', 'f16', 'f17', 'f18', 'f19', 'f2', 'f20', 'f21', 'f22', 'f23', 'f24', 'f3', 'f4', 'f5', 'f6', 'f7', 'f8', 'f9', 'final', 'fn', 'hanguel', 'hangul', 'hanja', 'help', 'home', 'insert', 'junja', 'kana', 'kanji', 'launchapp1', 'launchapp2', 'launchmail', 'launchmediaselect', 'left', 'modechange', 'multiply', 'nexttrack', 'nonconvert', 'num0', 'num1', 'num2', 'num3', 'num4', 'num5', 'num6', 'num7', 'num8', 'num9', 'numlock', 'pagedown', 'pageup', 'pause', 'pgdn', 'pgup', 'playpause', 'prevtrack', 'print', 'printscreen', 'prntscrn', 'prtsc', 'prtscr', 'return', 'right', 'scrolllock', 'select', 'separator', 'shift', 'shiftleft', 'shiftright', 'sleep', 'space', 'stop', 'subtract', 'tab', 'up', 'volumedown', 'volumemute', 'volumeup', 'win', 'winleft', 'winright', 'yen', 'command', 'option', 'optionleft', 'optionright']\n"
     ]
    }
   ],
   "source": [
    "import pyautogui\n",
    "import time\n",
    "\n",
    "# pyautogui.write() -> escreve\n",
    "# pyautogui.click -> clica\n",
    "# pyautogui.locateOnScreen -> identifica uma imagem na sua tela\n",
    "# pyautogui.hotkey -> usa atalhos do teclado (combinação de teclas)\n",
    "# pyautogui.press -> aperta um botão do teclado\n",
    "print(pyautogui.KEYBOARD_KEYS) #-> mostra todas as teclas que podemos usar"
   ]
  },
  {
   "cell_type": "code",
   "execution_count": 36,
   "metadata": {},
   "outputs": [
    {
     "ename": "KeyboardInterrupt",
     "evalue": "",
     "output_type": "error",
     "traceback": [
      "\u001b[1;31m---------------------------------------------------------------------------\u001b[0m",
      "\u001b[1;31mKeyboardInterrupt\u001b[0m                         Traceback (most recent call last)",
      "Cell \u001b[1;32mIn[36], line 38\u001b[0m\n\u001b[0;32m     36\u001b[0m \u001b[38;5;66;03m# clicar para escrever o email\u001b[39;00m\n\u001b[0;32m     37\u001b[0m pyautogui\u001b[38;5;241m.\u001b[39mclick(x\u001b[38;5;241m=\u001b[39m\u001b[38;5;241m357\u001b[39m, y\u001b[38;5;241m=\u001b[39m\u001b[38;5;241m471\u001b[39m)\n\u001b[1;32m---> 38\u001b[0m \u001b[43mtime\u001b[49m\u001b[38;5;241;43m.\u001b[39;49m\u001b[43msleep\u001b[49m\u001b[43m(\u001b[49m\u001b[38;5;241;43m7\u001b[39;49m\u001b[43m)\u001b[49m\n",
      "\u001b[1;31mKeyboardInterrupt\u001b[0m: "
     ]
    }
   ],
   "source": [
    "pyautogui.PAUSE = 3  # -> uma pausa de 1 segundo para cada comando \n",
    "\n",
    "# preciona a tecla do teclado windows \n",
    "pyautogui.press('win')\n",
    "# escreve o chrome \n",
    "pyautogui.write(\"Chrome\")\n",
    "# clica no enter \n",
    "pyautogui.press(\"enter\")\n",
    "\n",
    "# escrever na barra de navegação \n",
    "pyautogui.write(\"gmail\")\n",
    "pyautogui.press(\"enter\")\n",
    "\n",
    "## tirei um print especifico com ferramenta de captura \n",
    "x, y, largura, altura = pyautogui.locateOnScreen(\"Print.PNG\")\n",
    "pyautogui.click(x + largura/2, y + altura/2)\n",
    "\n",
    "# clicar no botão para fazer login\n",
    "pyautogui.click(x=953, y=126)\n",
    "\n",
    "# clicar no email para entrar \n",
    "time.sleep(5)\n",
    "pyautogui.click(x=829, y=681)\n",
    "\n",
    "time.sleep(13)\n",
    "# clicar no google apps \n",
    "pyautogui.click(x=1200, y=126)\n",
    "\n",
    "# clicar em contados \n",
    "pyautogui.click(x=1005, y=519)\n",
    "\n",
    "# clicar no ctt \n",
    "time.sleep(3)\n",
    "pyautogui.click(x=617, y=339)\n",
    "\n",
    "# clicar para escrever o email\n",
    "pyautogui.click(x=357, y=471)\n",
    "time.sleep(7)"
   ]
  },
  {
   "cell_type": "markdown",
   "metadata": {},
   "source": [
    "## Escrever meu Email"
   ]
  },
  {
   "cell_type": "code",
   "execution_count": null,
   "metadata": {},
   "outputs": [],
   "source": [
    "# assunto do email\n",
    "pyautogui.write(\"Recado para meu querido povo brasileiro\")\n",
    "pyautogui.press(\"tab\")\n",
    "pyautogui.write(\"Companheiros e companheiras, eu prometo que a partir de hoje todos os brasileiros vão ganhar um salário mínimo de 10 mil reais por mês, sem precisar trabalhar! Vamos acabar com todos os impostos e todo mundo vai ter uma casa própria, um carro novo e viagens de graça para o exterior! Ninguém vai mais precisar pagar contas de luz, água ou internet! Vamos fazer do Brasil o país mais rico e feliz do mundo, sem nenhum esforço! Essa é a minha promessa e eu garanto que vai acontecer já no primeiro dia do meu mandato!\")\n",
    "\n",
    "pyautogui.click(x=187, y=539)\n",
    "pyautogui.write(\"lulanojento.jpg\")\n",
    "pyautogui.press(\"enter\")\n",
    "\n",
    "time.sleep(6)\n",
    "\n"
   ]
  },
  {
   "cell_type": "code",
   "execution_count": null,
   "metadata": {},
   "outputs": [],
   "source": [
    "\n"
   ]
  },
  {
   "cell_type": "code",
   "execution_count": 34,
   "metadata": {},
   "outputs": [
    {
     "data": {
      "text/plain": [
       "Point(x=617, y=339)"
      ]
     },
     "execution_count": 34,
     "metadata": {},
     "output_type": "execute_result"
    }
   ],
   "source": [
    "time.sleep(7)\n",
    "pyautogui.position()"
   ]
  },
  {
   "cell_type": "markdown",
   "metadata": {},
   "source": [
    "### Agora vamos escrever o e-mail"
   ]
  },
  {
   "cell_type": "code",
   "execution_count": 91,
   "metadata": {},
   "outputs": [
    {
     "data": {
      "text/html": [
       "<div>\n",
       "<style scoped>\n",
       "    .dataframe tbody tr th:only-of-type {\n",
       "        vertical-align: middle;\n",
       "    }\n",
       "\n",
       "    .dataframe tbody tr th {\n",
       "        vertical-align: top;\n",
       "    }\n",
       "\n",
       "    .dataframe thead th {\n",
       "        text-align: right;\n",
       "    }\n",
       "</style>\n",
       "<table border=\"1\" class=\"dataframe\">\n",
       "  <thead>\n",
       "    <tr style=\"text-align: right;\">\n",
       "      <th></th>\n",
       "      <th>Name</th>\n",
       "      <th>Given Name</th>\n",
       "      <th>Family Name</th>\n",
       "      <th>Group Membership</th>\n",
       "      <th>E-mail 1 - Type</th>\n",
       "      <th>E-mail 1 - Value</th>\n",
       "      <th>Phone 1 - Value</th>\n",
       "      <th>Organization 1 - Name</th>\n",
       "      <th>Organization 1 - Title</th>\n",
       "    </tr>\n",
       "  </thead>\n",
       "  <tbody>\n",
       "    <tr>\n",
       "      <th>0</th>\n",
       "      <td>Teste Lira</td>\n",
       "      <td>Teste</td>\n",
       "      <td>Lira</td>\n",
       "      <td>* myContacts</td>\n",
       "      <td>* Home</td>\n",
       "      <td>pythonimpressionador+lira@gmail.com</td>\n",
       "      <td>21 98561-0481</td>\n",
       "      <td>Hashtag</td>\n",
       "      <td>Programador</td>\n",
       "    </tr>\n",
       "  </tbody>\n",
       "</table>\n",
       "</div>"
      ],
      "text/plain": [
       "         Name Given Name Family Name Group Membership E-mail 1 - Type  \\\n",
       "0  Teste Lira      Teste        Lira     * myContacts          * Home   \n",
       "\n",
       "                      E-mail 1 - Value Phone 1 - Value Organization 1 - Name  \\\n",
       "0  pythonimpressionador+lira@gmail.com   21 98561-0481               Hashtag   \n",
       "\n",
       "  Organization 1 - Title  \n",
       "0            Programador  "
      ]
     },
     "metadata": {},
     "output_type": "display_data"
    },
    {
     "data": {
      "text/plain": [
       "'OK'"
      ]
     },
     "execution_count": 91,
     "metadata": {},
     "output_type": "execute_result"
    }
   ],
   "source": []
  },
  {
   "cell_type": "markdown",
   "metadata": {},
   "source": [
    "### E se eu já tiver com a aba aberta, como que eu coloco ela na frente?"
   ]
  },
  {
   "cell_type": "code",
   "execution_count": 57,
   "metadata": {},
   "outputs": [],
   "source": []
  },
  {
   "cell_type": "markdown",
   "metadata": {},
   "source": [
    "### Como descobrir a posição do mouse do local que eu quero"
   ]
  },
  {
   "cell_type": "code",
   "execution_count": 2,
   "metadata": {},
   "outputs": [
    {
     "name": "stdout",
     "output_type": "stream",
     "text": [
      "Point(x=1363, y=1441)\n"
     ]
    }
   ],
   "source": []
  }
 ],
 "metadata": {
  "kernelspec": {
   "display_name": "Python 3",
   "language": "python",
   "name": "python3"
  },
  "language_info": {
   "codemirror_mode": {
    "name": "ipython",
    "version": 3
   },
   "file_extension": ".py",
   "mimetype": "text/x-python",
   "name": "python",
   "nbconvert_exporter": "python",
   "pygments_lexer": "ipython3",
   "version": "3.12.1"
  }
 },
 "nbformat": 4,
 "nbformat_minor": 4
}
